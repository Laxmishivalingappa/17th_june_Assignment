{
 "cells": [
  {
   "cell_type": "code",
   "execution_count": null,
   "id": "834569ed",
   "metadata": {},
   "outputs": [],
   "source": [
    "1 What is the role of try and exception block?\n",
    "ANS:\n",
    "    The try and except blocks in Python are used for exception handling, which allows you to handle errors and exceptions that may occur during the execution of your code. The purpose of the try block is to enclose the code that may raise an exception, and the except block is used to handle the exceptions that occur within the try block.\n",
    "\n",
    "The general syntax for a try and except block is as follows:"
   ]
  },
  {
   "cell_type": "code",
   "execution_count": null,
   "id": "5676261e",
   "metadata": {},
   "outputs": [],
   "source": [
    "try:\n",
    "    # Code that may raise an exception\n",
    "    # ...\n",
    "except SomeExceptionType:\n",
    "    # Code to handle the exception\n",
    "    # ...\n"
   ]
  },
  {
   "cell_type": "code",
   "execution_count": null,
   "id": "c6095326",
   "metadata": {},
   "outputs": [],
   "source": [
    "Here's how exception handling with the try and except blocks works:\n",
    "\n",
    "The code inside the try block is executed. If an exception occurs while executing this code, the control immediately jumps to the corresponding except block.\n",
    "\n",
    "In the except block, you can write code to handle the specific exception raised during the execution of the try block. You can perform error handling tasks, log the error, provide alternative logic, or take any other action that is appropriate for the specific exception.\n",
    "\n",
    "If an exception is raised in the try block but there is no corresponding except block to handle that particular exception, the program terminates with an error message indicating the uncaught exception. Therefore, it's essential to handle exceptions appropriately to avoid abrupt termination of the program."
   ]
  },
  {
   "cell_type": "code",
   "execution_count": null,
   "id": "22e27def",
   "metadata": {},
   "outputs": [],
   "source": [
    "try:\n",
    "    numerator = int(input(\"Enter the numerator: \"))\n",
    "    denominator = int(input(\"Enter the denominator: \"))\n",
    "    result = numerator / denominator\n",
    "    print(\"Result:\", result)\n",
    "except ValueError:\n",
    "    print(\"Invalid input. Please enter valid integers.\")\n",
    "except ZeroDivisionError:\n",
    "    print(\"Error: Cannot divide by zero.\")\n"
   ]
  },
  {
   "cell_type": "code",
   "execution_count": null,
   "id": "885ebe72",
   "metadata": {},
   "outputs": [],
   "source": [
    "2 What is the syntax for a basic try-except block?\n",
    "ANS:\n",
    "    The basic syntax for a try-except block in Python is as follows:\n",
    "        \n",
    "        try:\n",
    "    # Code that may raise an exception\n",
    "    # ...\n",
    "except SomeExceptionType:\n",
    "    # Code to handle the exception\n",
    "    # ..."
   ]
  },
  {
   "cell_type": "code",
   "execution_count": null,
   "id": "9112ad94",
   "metadata": {},
   "outputs": [],
   "source": [
    "Here's a breakdown of each part of the try-except block:\n",
    "\n",
    "try: This keyword marks the beginning of the try block, where you place the code that may raise an exception. The code within the try block is monitored for exceptions.\n",
    "\n",
    "except: This keyword marks the beginning of the except block, which is used to handle exceptions that occur within the corresponding try block. If an exception occurs in the try block, the control immediately jumps to the appropriate except block.\n",
    "\n",
    "SomeExceptionType: In the except block, you specify the type of exception that you want to catch and handle. For example, if you expect a ValueError to occur in the try block, you can write except ValueError: to handle that specific exception.\n",
    "\n",
    "You can have multiple except blocks to handle different types of exceptions or to provide distinct error-handling logic for various exceptional scenarios.\n",
    "\n",
    "Example:"
   ]
  },
  {
   "cell_type": "code",
   "execution_count": null,
   "id": "0b4bd9f0",
   "metadata": {},
   "outputs": [],
   "source": [
    "try:\n",
    "    numerator = int(input(\"Enter the numerator: \"))\n",
    "    denominator = int(input(\"Enter the denominator: \"))\n",
    "    result = numerator / denominator\n",
    "    print(\"Result:\", result)\n",
    "except ValueError:\n",
    "    print(\"Invalid input. Please enter valid integers.\")\n",
    "except ZeroDivisionError:\n",
    "    print(\"Error: Cannot divide by zero.\")\n"
   ]
  },
  {
   "cell_type": "code",
   "execution_count": null,
   "id": "921131c9",
   "metadata": {},
   "outputs": [],
   "source": [
    "3 What happens if an exception occurs inside a try block and there is no matching\n",
    "except block?\n",
    "ANS:\n",
    "    If an exception occurs inside a try block and there is no matching except block to handle that specific exception, the program will terminate, and an error message indicating the uncaught exception will be displayed. This is known as an \"unhandled exception\" or \"uncaught exception.\"\n",
    "\n",
    "Here's what happens when an exception is not caught by any except block:\n",
    "\n",
    "The code inside the try block is executed as usual.\n",
    "\n",
    "If an exception occurs while executing the code within the try block, the control immediately jumps to the first except block that matches the type of the raised exception. If there is no matching except block, the control will not find any other exception handler and will exit the try block.\n",
    "\n",
    "If the exception is unhandled (no matching except block found), the program will terminate at the point where the exception occurred. Python will display an error message that includes information about the type of the uncaught exception, the line number where it occurred, and the call stack trace."
   ]
  },
  {
   "cell_type": "code",
   "execution_count": null,
   "id": "7a3008ce",
   "metadata": {},
   "outputs": [],
   "source": [
    "try:\n",
    "    result = 10 / 0  # Division by zero will raise a ZeroDivisionError\n",
    "    print(\"Result:\", result)  # This line won't be executed\n",
    "except ValueError:\n",
    "    print(\"Caught a ValueError.\")\n"
   ]
  },
  {
   "cell_type": "code",
   "execution_count": null,
   "id": "a87f1467",
   "metadata": {},
   "outputs": [],
   "source": [
    "In this example, we have a try block that attempts to perform a division by zero, which will raise a ZeroDivisionError. However, there is no except ZeroDivisionError block to handle this specific exception. As a result, the program will terminate, and an error message like the following will be displayed:"
   ]
  },
  {
   "cell_type": "code",
   "execution_count": null,
   "id": "31611c30",
   "metadata": {},
   "outputs": [],
   "source": [
    "ZeroDivisionError: division by zero\n"
   ]
  },
  {
   "cell_type": "code",
   "execution_count": null,
   "id": "60f5968f",
   "metadata": {},
   "outputs": [],
   "source": [
    "4 What is the difference between using a bare except block and specifying a specific\n",
    "exception type?\n",
    "\n",
    "The difference between using a bare except block and specifying a specific exception type lies in how exceptions are handled in each case.\n",
    "\n",
    "Bare except block:\n",
    "A bare except block is written as except: without specifying any specific exception type. It catches and handles any type of exception that occurs within the corresponding try block. While it may seem convenient to catch all exceptions, using a bare except block is generally discouraged because it can lead to unintended consequences and make it difficult to identify and debug specific issues.\n",
    "Example of a bare except block:"
   ]
  },
  {
   "cell_type": "code",
   "execution_count": null,
   "id": "a23206dd",
   "metadata": {},
   "outputs": [],
   "source": [
    "try:\n",
    "    # Some code that may raise exceptions\n",
    "    # ...\n",
    "except:\n",
    "    # Code to handle any exception (not recommended)\n",
    "    # ...\n"
   ]
  },
  {
   "cell_type": "code",
   "execution_count": null,
   "id": "2981f3a1",
   "metadata": {},
   "outputs": [],
   "source": [
    "Specifying a specific exception type:\n",
    "When you specify a specific exception type, such as except ValueError: or except ZeroDivisionError:, the except block will only catch and handle exceptions of the specified type. This allows you to handle different types of exceptions differently, providing more targeted error handling and making your code more robust and maintainable.\n",
    "Example of specifying a specific exception type:"
   ]
  },
  {
   "cell_type": "code",
   "execution_count": null,
   "id": "2681f650",
   "metadata": {},
   "outputs": [],
   "source": [
    "try:\n",
    "    # Some code that may raise exceptions\n",
    "    # ...\n",
    "except ValueError:\n",
    "    # Code to handle ValueError exception\n",
    "    # ...\n",
    "except ZeroDivisionError:\n",
    "    # Code to handle ZeroDivisionError exception\n",
    "    # ...\n"
   ]
  },
  {
   "cell_type": "code",
   "execution_count": null,
   "id": "1d0383b5",
   "metadata": {},
   "outputs": [],
   "source": [
    "5. Can you have nested try-except blocks in Python? If yes, then give an example.\n",
    "\n",
    "ANS:\n",
    "    Yes, you can have nested try-except blocks in Python. A nested try-except block means that you can place one try-except block inside another try or except block. This allows you to handle exceptions in a more fine-grained manner, especially when different parts of your code may raise different types of exceptions.\n",
    "\n",
    "Here's an example of nested try-except blocks:"
   ]
  },
  {
   "cell_type": "code",
   "execution_count": null,
   "id": "35af2b97",
   "metadata": {},
   "outputs": [],
   "source": [
    "def divide_numbers(a, b):\n",
    "    try:\n",
    "        result = a / b\n",
    "        print(\"Result:\", result)\n",
    "    except ZeroDivisionError:\n",
    "        print(\"Error: Cannot divide by zero.\")\n",
    "    except TypeError:\n",
    "        print(\"Error: Invalid data types for division.\")\n",
    "    except Exception as e:\n",
    "        print(\"An unexpected error occurred:\", e)\n",
    "\n",
    "def process_data(data):\n",
    "    try:\n",
    "        for item in data:\n",
    "            # Attempt to perform some operation on each item in the data list\n",
    "            # Here, we'll divide 10 by the item in the list.\n",
    "            divide_numbers(10, item)\n",
    "    except ValueError:\n",
    "        print(\"Error: Invalid data format in the list.\")\n",
    "    except Exception as e:\n",
    "        print(\"An unexpected error occurred:\", e)\n",
    "\n",
    "# Test with different data lists\n",
    "data_list1 = [2, 4, 0, 6, 3]\n",
    "data_list2 = [5, \"hello\", 2, 8]\n",
    "\n",
    "print(\"Processing data_list1:\")\n",
    "process_data(data_list1)\n",
    "\n",
    "print(\"\\nProcessing data_list2:\")\n",
    "process_data(data_list2)\n"
   ]
  },
  {
   "cell_type": "code",
   "execution_count": null,
   "id": "d19fd884",
   "metadata": {},
   "outputs": [],
   "source": [
    "6. Can we use multiple exception blocks, if yes then give an example.\n",
    "ANS:\n",
    "    \n",
    "\n",
    "Yes, you can use multiple except blocks in Python to handle different types of exceptions in separate blocks. This allows you to provide targeted error handling for each type of exception that may occur in your code.\n",
    "\n",
    "Here's an example that demonstrates the use of multiple except blocks:"
   ]
  },
  {
   "cell_type": "code",
   "execution_count": null,
   "id": "f8d37a93",
   "metadata": {},
   "outputs": [],
   "source": [
    "def divide_numbers(a, b):\n",
    "    try:\n",
    "        result = a / b\n",
    "        print(\"Result:\", result)\n",
    "    except ZeroDivisionError:\n",
    "        print(\"Error: Cannot divide by zero.\")\n",
    "    except TypeError:\n",
    "        print(\"Error: Invalid data types for division.\")\n",
    "    except Exception as e:\n",
    "        print(\"An unexpected error occurred:\", e)\n",
    "\n",
    "# Test with different inputs\n",
    "divide_numbers(10, 2)       \n",
    "divide_numbers(10, 0)       \n",
    "divide_numbers(10, \"hello\") # \n",
    "divide_numbers(10, [2, 5])  # '\n"
   ]
  },
  {
   "cell_type": "code",
   "execution_count": null,
   "id": "bf6d93ce",
   "metadata": {},
   "outputs": [],
   "source": [
    "In this example, the divide_numbers(a, b) function performs division and has multiple except blocks to handle different types of exceptions:\n",
    "\n",
    "The first except ZeroDivisionError: block handles the ZeroDivisionError exception, which occurs when the denominator (b) is 0.\n",
    "\n",
    "The second except TypeError: block handles the TypeError exception, which occurs when the data types of a and b are not suitable for division (e.g., trying to divide an integer by a string).\n",
    "\n",
    "The third except Exception as e: block is a generic catch-all block that handles any other unexpected exceptions not caught by the previous except blocks. It prints an error message along with the exception information (e).\n",
    "\n",
    "Using multiple except blocks allows you to handle various types of exceptions differently and provides more specific and targeted error handling, making your code more robust and user-friendly."
   ]
  },
  {
   "cell_type": "code",
   "execution_count": null,
   "id": "e1588b66",
   "metadata": {},
   "outputs": [],
   "source": [
    "7 Write the reason due to which following errors are raised:\n",
    "a. EOFError\n",
    "b. FloatingPointError\n",
    "c. IndexError\n",
    "d. MemoryError\n",
    "e. OverflowError\n",
    "f. TabError\n",
    "g. ValueError\n",
    "\n",
    "ANS:\n",
    "    Here are the reasons due to which the mentioned errors are raised in Python:\n",
    "\n",
    "a. EOFError: This error is raised when the input() function hits the end-of-file (EOF) condition. It occurs if you try to read input from the user, but the user signals the end of input (e.g., by pressing Ctrl+D in Unix/Linux or Ctrl+Z in Windows when reading from the console).\n",
    "\n",
    "b. FloatingPointError: This error is raised when a floating-point operation cannot be performed due to an invalid mathematical operation, such as division by zero or an undefined result (e.g., taking the square root of a negative number).\n",
    "\n",
    "c. IndexError: This error is raised when you try to access an index of a sequence (like a list or tuple) that is out of range, i.e., either too large or negative. It occurs when you try to access an element at an index that does not exist.\n",
    "\n",
    "d. MemoryError: This error is raised when the Python interpreter runs out of memory (RAM) while trying to allocate memory for an object. It occurs when there is insufficient memory available to perform a specific operation.\n",
    "\n",
    "e. OverflowError: This error is raised when a numerical operation results in a value that exceeds the representable range of a numeric type (e.g., an integer that is too large for its data type).\n",
    "\n",
    "f. TabError: This error is raised when the indentation in Python code contains a mix of tabs and spaces, causing inconsistencies in the indentation level.\n",
    "\n",
    "g. ValueError: This error is raised when a built-in operation or function receives an argument of the correct type but with an inappropriate value. For example, it may occur when trying to convert a string to an integer if the string does not represent a valid integer.\n",
    "\n",
    "Keep in mind that these errors are just a few examples of the different types of exceptions that Python can raise. Each error serves as an indication that something has gone wrong during the execution of the program, and they can be caught and handled using try-except blocks to provide appropriate error handling and recovery mechanisms.\n",
    "\n"
   ]
  },
  {
   "cell_type": "code",
   "execution_count": null,
   "id": "43850114",
   "metadata": {},
   "outputs": [],
   "source": [
    "8 Write code for the following given scenario and add try-exception block to it.\n",
    "a. Program to divide two numbers\n",
    "b. Program to convert a string to an integer\n",
    "c. Program to access an element in a list\n",
    "d. Program to handle a specific exception\n",
    "e. Program to handle any exception\n",
    "\n",
    "ANS:\n",
    "    Sure! Below are examples of each scenario with try-except blocks to handle exceptions:\n",
    "\n",
    "a. Program to divide two numbers:"
   ]
  },
  {
   "cell_type": "code",
   "execution_count": null,
   "id": "196d05d8",
   "metadata": {},
   "outputs": [],
   "source": [
    "def divide_numbers(a, b):\n",
    "    try:\n",
    "        result = a / b\n",
    "        print(\"Result:\", result)\n",
    "    except ZeroDivisionError:\n",
    "        print(\"Error: Cannot divide by zero.\")\n",
    "\n",
    "# Test with different inputs\n",
    "divide_numbers(10, 2)  # \n",
    "divide_numbers(10, 0)  #\n"
   ]
  },
  {
   "cell_type": "code",
   "execution_count": null,
   "id": "1f201e82",
   "metadata": {},
   "outputs": [],
   "source": [
    "b. Program to convert a string to an integer:\n",
    "\n",
    "def convert_to_integer(s):\n",
    "    try:\n",
    "        num = int(s)\n",
    "        print(\"Converted integer:\", num)\n",
    "    except ValueError:\n",
    "        print(\"Error: Invalid input. Please enter a valid integer.\")\n",
    "\n",
    "# Test with different inputs\n",
    "convert_to_integer(\"123\")  # \n",
    "convert_to_integer(\"hello\")  #\n"
   ]
  },
  {
   "cell_type": "code",
   "execution_count": null,
   "id": "80271e6b",
   "metadata": {},
   "outputs": [],
   "source": [
    "c. Program to access an element in a list:\n",
    "\n",
    "def access_list_element(lst, index):\n",
    "    try:\n",
    "        value = lst[index]\n",
    "        print(\"Value at index\", index, \":\", value)\n",
    "    except IndexError:\n",
    "        print(\"Error: Index out of range. The list does not have an element at index\", index)\n",
    "\n",
    "# Test with different inputs\n",
    "my_list = [1, 2, 3, 4, 5]\n",
    "access_list_element(my_list, 2)  \n",
    "access_list_element(my_list, 10)  \n"
   ]
  },
  {
   "cell_type": "code",
   "execution_count": null,
   "id": "e52ef5a6",
   "metadata": {},
   "outputs": [],
   "source": [
    "d. Program to handle a specific exception:\n",
    "\n",
    "def handle_specific_exception():\n",
    "    try:\n",
    "        num = int(input(\"Enter a number: \"))\n",
    "        if num < 0:\n",
    "            raise ValueError(\"Negative numbers are not allowed.\")\n",
    "        print(\"You entered:\", num)\n",
    "    except ValueError as ve:\n",
    "        print(\"Error:\", ve)\n",
    "\n",
    "# Test with different inputs\n",
    "handle_specific_exception()\n"
   ]
  },
  {
   "cell_type": "code",
   "execution_count": null,
   "id": "d5cd79a2",
   "metadata": {},
   "outputs": [],
   "source": [
    "e. Program to handle any exception:\n",
    "\n",
    "def handle_any_exception():\n",
    "    try:\n",
    "        result = 10 / 0  # Division by zero will raise a ZeroDivisionError\n",
    "        print(\"Result:\", result)  # This line won't be executed\n",
    "    except Exception as e:\n",
    "        print(\"An unexpected error occurred:\", e)\n",
    "\n",
    "# Test the function\n",
    "handle_any_exception()  # Output: An unexpected error occurred: division by zero\n"
   ]
  },
  {
   "cell_type": "code",
   "execution_count": null,
   "id": "bc8531f0",
   "metadata": {},
   "outputs": [],
   "source": []
  }
 ],
 "metadata": {
  "kernelspec": {
   "display_name": "Python 3 (ipykernel)",
   "language": "python",
   "name": "python3"
  },
  "language_info": {
   "codemirror_mode": {
    "name": "ipython",
    "version": 3
   },
   "file_extension": ".py",
   "mimetype": "text/x-python",
   "name": "python",
   "nbconvert_exporter": "python",
   "pygments_lexer": "ipython3",
   "version": "3.10.9"
  }
 },
 "nbformat": 4,
 "nbformat_minor": 5
}
